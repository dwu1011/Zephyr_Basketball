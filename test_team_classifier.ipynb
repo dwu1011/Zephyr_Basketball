{
 "cells": [
  {
   "cell_type": "code",
   "execution_count": 1,
   "metadata": {},
   "outputs": [
    {
     "name": "stderr",
     "output_type": "stream",
     "text": [
      "TqdmWarning: IProgress not found. Please update jupyter and ipywidgets. See https://ipywidgets.readthedocs.io/en/stable/user_install.html\n",
      "Using a slow image processor as `use_fast` is unset and a slow processor was saved with this model. `use_fast=True` will be the default behavior in v4.52, even if the model was saved with a slow processor. This will result in minor differences in outputs. You'll still be able to use a slow processor with `use_fast=False`.\n"
     ]
    }
   ],
   "source": [
    "from basketball.common.team import TeamClassifier\n",
    "\n",
    "cf = TeamClassifier()"
   ]
  },
  {
   "cell_type": "code",
   "execution_count": null,
   "metadata": {},
   "outputs": [],
   "source": [
    "# open images in bball\n",
    "from ultralytics import YOLO\n",
    "import cv2\n",
    "\n",
    "model = YOLO(\"weights.pt\")\n"
   ]
  },
  {
   "cell_type": "code",
   "execution_count": 3,
   "metadata": {},
   "outputs": [],
   "source": [
    "from pathlib import Path\n",
    "\n",
    "train_dir = Path(\"boxball-roblox/train/images/\")"
   ]
  },
  {
   "cell_type": "code",
   "execution_count": null,
   "metadata": {},
   "outputs": [
    {
     "name": "stdout",
     "output_type": "stream",
     "text": [
      "\n",
      "image 1/1 /Users/anishthewizard/Documents/Programming/Zephyr_Basketball/boxball-roblox/train/images/youtube-1_jpg.rf.53be10ad76aab911ad2f8f0ac56c30da.jpg: 640x640 1 Player, 113.7ms\n",
      "Speed: 4.1ms preprocess, 113.7ms inference, 7.5ms postprocess per image at shape (1, 3, 640, 640)\n",
      "\n",
      "image 1/1 /Users/anishthewizard/Documents/Programming/Zephyr_Basketball/boxball-roblox/train/images/youtube-1_jpg.rf.4f831ef6d5f16b830777c573e6fbfb8c.jpg: 640x640 1 Ball, 10 Players, 2 Refs, 66.0ms\n",
      "Speed: 0.9ms preprocess, 66.0ms inference, 0.4ms postprocess per image at shape (1, 3, 640, 640)\n",
      "\n",
      "image 1/1 /Users/anishthewizard/Documents/Programming/Zephyr_Basketball/boxball-roblox/train/images/youtube-1_jpg.rf.de0df1dc7255db78c498ca53042a223f.jpg: 640x640 1 Ball, 10 Players, 2 Refs, 54.8ms\n",
      "Speed: 0.8ms preprocess, 54.8ms inference, 0.4ms postprocess per image at shape (1, 3, 640, 640)\n",
      "\n",
      "image 1/1 /Users/anishthewizard/Documents/Programming/Zephyr_Basketball/boxball-roblox/train/images/youtube-1_jpg.rf.c2f83f8b2e6f00cfbd1ea4037d8016f3.jpg: 640x640 1 Ball, 10 Players, 2 Refs, 75.6ms\n",
      "Speed: 0.9ms preprocess, 75.6ms inference, 0.5ms postprocess per image at shape (1, 3, 640, 640)\n",
      "\n",
      "image 1/1 /Users/anishthewizard/Documents/Programming/Zephyr_Basketball/boxball-roblox/train/images/youtube-1_jpg.rf.98e82551c1d2f18a077cf6f2d5f8dac1.jpg: 640x640 1 Ball, 10 Players, 2 Refs, 60.5ms\n",
      "Speed: 0.8ms preprocess, 60.5ms inference, 0.4ms postprocess per image at shape (1, 3, 640, 640)\n",
      "\n",
      "image 1/1 /Users/anishthewizard/Documents/Programming/Zephyr_Basketball/boxball-roblox/train/images/youtube-1_jpg.rf.d5023c5d420c8f7d974b3a18e84c4e21.jpg: 640x640 10 Players, 2 Refs, 67.9ms\n",
      "Speed: 1.0ms preprocess, 67.9ms inference, 0.6ms postprocess per image at shape (1, 3, 640, 640)\n",
      "\n",
      "image 1/1 /Users/anishthewizard/Documents/Programming/Zephyr_Basketball/boxball-roblox/train/images/youtube-1_jpg.rf.de0b9d6550d305f96d1dc66d1d602af7.jpg: 640x640 1 Ball, 10 Players, 2 Refs, 63.3ms\n",
      "Speed: 0.8ms preprocess, 63.3ms inference, 0.4ms postprocess per image at shape (1, 3, 640, 640)\n",
      "\n",
      "image 1/1 /Users/anishthewizard/Documents/Programming/Zephyr_Basketball/boxball-roblox/train/images/youtube-1_jpg.rf.b5825f96c76a3af1e4f50377d06f4e44.jpg: 640x640 1 Player, 54.4ms\n",
      "Speed: 0.8ms preprocess, 54.4ms inference, 0.5ms postprocess per image at shape (1, 3, 640, 640)\n",
      "\n",
      "image 1/1 /Users/anishthewizard/Documents/Programming/Zephyr_Basketball/boxball-roblox/train/images/youtube-1_jpg.rf.c771a4eb9c4c9161dd0dc3d817917f5a.jpg: 640x640 1 Ball, 10 Players, 2 Refs, 58.7ms\n",
      "Speed: 0.9ms preprocess, 58.7ms inference, 0.4ms postprocess per image at shape (1, 3, 640, 640)\n",
      "\n",
      "image 1/1 /Users/anishthewizard/Documents/Programming/Zephyr_Basketball/boxball-roblox/train/images/youtube-1_jpg.rf.47bb137a91efe7ea51738c2fc52f52eb.jpg: 640x640 1 Player, 54.2ms\n",
      "Speed: 1.1ms preprocess, 54.2ms inference, 0.3ms postprocess per image at shape (1, 3, 640, 640)\n",
      "\n",
      "image 1/1 /Users/anishthewizard/Documents/Programming/Zephyr_Basketball/boxball-roblox/train/images/youtube-1_jpg.rf.a445e3ac589c4b401d43a0ca9cc05de0.jpg: 640x640 10 Players, 2 Refs, 52.6ms\n",
      "Speed: 0.9ms preprocess, 52.6ms inference, 0.6ms postprocess per image at shape (1, 3, 640, 640)\n",
      "\n",
      "image 1/1 /Users/anishthewizard/Documents/Programming/Zephyr_Basketball/boxball-roblox/train/images/youtube-1_jpg.rf.2391f90129ff1e68b6d89bc60b939151.jpg: 640x640 1 Ball, 10 Players, 2 Refs, 56.4ms\n",
      "Speed: 1.0ms preprocess, 56.4ms inference, 0.6ms postprocess per image at shape (1, 3, 640, 640)\n",
      "\n",
      "image 1/1 /Users/anishthewizard/Documents/Programming/Zephyr_Basketball/boxball-roblox/train/images/youtube-1_jpg.rf.f6b1fae940d4bc6719b2567c93e8c197.jpg: 640x640 1 Ball, 10 Players, 2 Refs, 61.4ms\n",
      "Speed: 1.0ms preprocess, 61.4ms inference, 0.4ms postprocess per image at shape (1, 3, 640, 640)\n",
      "\n",
      "image 1/1 /Users/anishthewizard/Documents/Programming/Zephyr_Basketball/boxball-roblox/train/images/youtube-1_jpg.rf.c00f8be5c4dff370466edfac9e5d4eec.jpg: 640x640 1 Ball, 10 Players, 2 Refs, 57.0ms\n",
      "Speed: 1.0ms preprocess, 57.0ms inference, 0.4ms postprocess per image at shape (1, 3, 640, 640)\n",
      "\n",
      "image 1/1 /Users/anishthewizard/Documents/Programming/Zephyr_Basketball/boxball-roblox/train/images/youtube-1_jpg.rf.2f44837f8c84d3dc839dadc1aa6c179f.jpg: 640x640 1 Ball, 10 Players, 2 Refs, 59.6ms\n",
      "Speed: 1.1ms preprocess, 59.6ms inference, 0.4ms postprocess per image at shape (1, 3, 640, 640)\n",
      "\n",
      "image 1/1 /Users/anishthewizard/Documents/Programming/Zephyr_Basketball/boxball-roblox/train/images/youtube-1_jpg.rf.e2ff120037c0fd2ed9e99a197c7c486f.jpg: 640x640 1 Ball, 10 Players, 2 Refs, 55.3ms\n",
      "Speed: 0.8ms preprocess, 55.3ms inference, 0.4ms postprocess per image at shape (1, 3, 640, 640)\n",
      "\n",
      "image 1/1 /Users/anishthewizard/Documents/Programming/Zephyr_Basketball/boxball-roblox/train/images/youtube-1_jpg.rf.1e6a27648d701c17c9c0161fce3e305e.jpg: 640x640 10 Players, 2 Refs, 54.1ms\n",
      "Speed: 1.0ms preprocess, 54.1ms inference, 0.4ms postprocess per image at shape (1, 3, 640, 640)\n"
     ]
    }
   ],
   "source": [
    "crops = []\n",
    "player_label = 1\n",
    "\n",
    "for img_path in train_dir.glob(\"youtube-1_*\"):\n",
    "    if img_path.is_file():\n",
    "        img = cv2.imread(str(img_path))\n",
    "        result = model.predict(conf=0.8, source=str(img_path))\n",
    "        \n",
    "        if result[0].boxes:\n",
    "            boxes = result[0].boxes.xyxy\n",
    "            class_ids = result[0].boxes.cls\n",
    "            \n",
    "            for i, box in enumerate(boxes):\n",
    "                if class_ids[i].item() == player_label:\n",
    "                    x1, y1, x2, y2 = map(int, box[:4])\n",
    "                    crop = img[y1:y2, x1:x2]\n",
    "                    \n",
    "                    if crop.size > 0:\n",
    "                        crops.append(crop)\n",
    "                        cv2.imwrite(f\"crop_outputs/cropped_image_{i}.jpg\", crop)"
   ]
  },
  {
   "cell_type": "code",
   "execution_count": 5,
   "metadata": {},
   "outputs": [
    {
     "name": "stderr",
     "output_type": "stream",
     "text": [
      "Embedding extraction: 5it [00:07,  1.42s/it]\n",
      "FutureWarning: 'force_all_finite' was renamed to 'ensure_all_finite' in 1.6 and will be removed in 1.8.\n",
      "OMP: Info #276: omp_set_nested routine deprecated, please use omp_set_max_active_levels instead.\n"
     ]
    },
    {
     "name": "stdout",
     "output_type": "stream",
     "text": [
      "Trained on 143 crops, exporting model...\n"
     ]
    }
   ],
   "source": [
    "for i in range(0, len(crops), 500):\n",
    "    batch_crops = crops[i:i+500]\n",
    "    \n",
    "    if len(batch_crops) > 0:\n",
    "        cf.fit(batch_crops)\n",
    "        print(f\"Trained on {i + len(batch_crops)} crops, exporting model...\")\n",
    "        cf.save_weights(f\"classifiers/iter{i}\")"
   ]
  },
  {
   "cell_type": "code",
   "execution_count": 14,
   "metadata": {},
   "outputs": [
    {
     "name": "stderr",
     "output_type": "stream",
     "text": [
      "Embedding extraction: 1it [00:00,  6.61it/s]\n",
      "FutureWarning: 'force_all_finite' was renamed to 'ensure_all_finite' in 1.6 and will be removed in 1.8.\n"
     ]
    },
    {
     "data": {
      "text/plain": [
       "array([1, 0], dtype=int32)"
      ]
     },
     "execution_count": 14,
     "metadata": {},
     "output_type": "execute_result"
    }
   ],
   "source": [
    "cf.predict([crops[5], crops[1]])"
   ]
  },
  {
   "cell_type": "code",
   "execution_count": 15,
   "metadata": {},
   "outputs": [],
   "source": [
    "cv2.imshow(\"crop\", crops[5])\n",
    "cv2.waitKey(0)\n",
    "cv2.imshow(\"crop\", crops[1])\n",
    "cv2.waitKey(5)\n",
    "\n",
    "cv2.destroyAllWindows()"
   ]
  }
 ],
 "metadata": {
  "kernelspec": {
   "display_name": "env",
   "language": "python",
   "name": "python3"
  },
  "language_info": {
   "codemirror_mode": {
    "name": "ipython",
    "version": 3
   },
   "file_extension": ".py",
   "mimetype": "text/x-python",
   "name": "python",
   "nbconvert_exporter": "python",
   "pygments_lexer": "ipython3",
   "version": "3.12.4"
  }
 },
 "nbformat": 4,
 "nbformat_minor": 2
}
